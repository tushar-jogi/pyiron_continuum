{
 "cells": [
  {
   "cell_type": "markdown",
   "id": "7cb583ea-40a6-461c-a0fb-0e1ad294b7c8",
   "metadata": {},
   "source": [
    "# Define the pyrion project"
   ]
  },
  {
   "cell_type": "code",
   "execution_count": 1,
   "id": "4a62a46e-d978-46de-a4ca-c1ea6e1397e1",
   "metadata": {},
   "outputs": [],
   "source": [
    "from pyiron_continuum import Project\n",
    "from damask import Rotation # this will be used in material configuration"
   ]
  },
  {
   "cell_type": "markdown",
   "id": "4122bbac-2211-4ed6-b939-124a3465e4c6",
   "metadata": {},
   "source": [
    "## create a 'project' to manage all the configurations for a Rolling test"
   ]
  },
  {
   "cell_type": "code",
   "execution_count": 2,
   "id": "4c668c0d-1248-4b8c-9e8b-9db134dbadad",
   "metadata": {},
   "outputs": [],
   "source": [
    "pr = Project('RollingTest')\n",
    "#pr.remove_jobs(silently=True) # automatically delete the existing project folder"
   ]
  },
  {
   "cell_type": "markdown",
   "id": "8588fb22-6917-4a87-810d-99e02af7e327",
   "metadata": {},
   "source": [
    "## Creating the Damask job"
   ]
  },
  {
   "cell_type": "code",
   "execution_count": 3,
   "id": "86063362-35f9-4d68-866d-90dcf83d795b",
   "metadata": {},
   "outputs": [],
   "source": [
    "job = pr.create.job.ROLLING('damask_job')"
   ]
  },
  {
   "cell_type": "markdown",
   "id": "5b41505b-ac22-4136-8fd9-c2970d8f7a2c",
   "metadata": {},
   "source": [
    "## For a damask job, one needs:\n",
    "- geometry information(i.e., the mesh)\n",
    "- material configuration(material.yaml)\n",
    "- boundary conditions(i.e., loading.yaml)"
   ]
  },
  {
   "cell_type": "markdown",
   "id": "8a055c37-c81c-4be4-aec0-b2e2e8b84c67",
   "metadata": {},
   "source": [
    "## For material configuration\n",
    "- Query the material parameters for **Elasticity** and **Plasticity** from Data Space Management System(DSMS)"
   ]
  },
  {
   "cell_type": "code",
   "execution_count": 4,
   "id": "646e17b7-536f-4abc-a4de-c88cb2566b21",
   "metadata": {},
   "outputs": [],
   "source": [
    "dataset_id=\"6d66a588-079a-4436-8ac6-dff62c67791b\"\n",
    "\n",
    "query=f\"\"\"\n",
    "prefix emmo: <http://emmo.info/emmo#>\n",
    "prefix datamodel: <http://emmo.info/datamodel#>\n",
    "prefix metro: <http://emmo.info/emmo/middle/metrology#>\n",
    "prefix math: <http://emmo.info/emmo/middle/math#>\n",
    "prefix perceptual: <http://emmo.info/emmo/middle/perceptual#>\n",
    "prefix dcat: <http://www.w3.org/ns/dcat#>\n",
    "prefix steel: <https://w3id.org/steel/ProcessOntology/>\n",
    "select distinct\n",
    "    ?param_type\n",
    "    ?label\n",
    "    (str(?value) as ?val)\n",
    "    (str(?unit) as ?unit_label)\n",
    "where {{\n",
    "   <https://stahldigital.materials-data.space/{dataset_id}/dataset> datamodel:composition ?param .\n",
    "    ?param rdf:type ?param_type ;\n",
    "           rdfs:label ?label ;\n",
    "           metro:EMMO_8ef3cd6d_ae58_4a8d_9fc0_ad8f49015cd0 ?numerical .\n",
    "    ?numerical rdf:type math:EMMO_4ce76d7f_03f8_45b6_9003_90052a79bfaa ;\n",
    "                     math:EMMO_faf79f53_749d_40b2_807c_d34244c192f4 ?value ;\n",
    "                     metro:EMMO_67fc0a36_8dcb_4ffa_9a43_31074efa3296 ?symbol .\n",
    "    ?symbol perceptual:EMMO_23b579e1_8088_45b5_9975_064014026c42 ?unit .\n",
    "}}\n",
    "\"\"\""
   ]
  },
  {
   "cell_type": "code",
   "execution_count": 5,
   "id": "9259b5c7-e879-44c5-b029-0bf21497fb53",
   "metadata": {
    "scrolled": true
   },
   "outputs": [
    {
     "data": {
      "text/html": [
       "<div>\n",
       "<style scoped>\n",
       "    .dataframe tbody tr th:only-of-type {\n",
       "        vertical-align: middle;\n",
       "    }\n",
       "\n",
       "    .dataframe tbody tr th {\n",
       "        vertical-align: top;\n",
       "    }\n",
       "\n",
       "    .dataframe thead th {\n",
       "        text-align: right;\n",
       "    }\n",
       "</style>\n",
       "<table border=\"1\" class=\"dataframe\">\n",
       "  <thead>\n",
       "    <tr style=\"text-align: right;\">\n",
       "      <th></th>\n",
       "      <th>param_type</th>\n",
       "      <th>label</th>\n",
       "      <th>val</th>\n",
       "      <th>unit_label</th>\n",
       "    </tr>\n",
       "  </thead>\n",
       "  <tbody>\n",
       "    <tr>\n",
       "      <th>3</th>\n",
       "      <td>&lt;http://emmo.info/datamodel#Metadata&gt;</td>\n",
       "      <td>Density@en</td>\n",
       "      <td>1.0E0</td>\n",
       "      <td>SomeUnitSymbol</td>\n",
       "    </tr>\n",
       "    <tr>\n",
       "      <th>18</th>\n",
       "      <td>&lt;http://emmo.info/datamodel#EnrichedParameter&gt;</td>\n",
       "      <td>Density@en</td>\n",
       "      <td>1.0E0</td>\n",
       "      <td>SomeUnitSymbol</td>\n",
       "    </tr>\n",
       "    <tr>\n",
       "      <th>36</th>\n",
       "      <td>&lt;http://emmo.info/emmo/middle/metrology#EMMO_f...</td>\n",
       "      <td>Messlänge Standardweg</td>\n",
       "      <td>8.0E1</td>\n",
       "      <td>mm</td>\n",
       "    </tr>\n",
       "    <tr>\n",
       "      <th>40</th>\n",
       "      <td>&lt;http://emmo.info/datamodel#Metadata&gt;</td>\n",
       "      <td>Messlänge Standardweg</td>\n",
       "      <td>8.0E1</td>\n",
       "      <td>mm</td>\n",
       "    </tr>\n",
       "    <tr>\n",
       "      <th>29</th>\n",
       "      <td>&lt;http://emmo.info/datamodel#EnrichedParameter&gt;</td>\n",
       "      <td>Poisson ratio@en</td>\n",
       "      <td>1.0E0</td>\n",
       "      <td>SomeUnitSymbol</td>\n",
       "    </tr>\n",
       "    <tr>\n",
       "      <th>11</th>\n",
       "      <td>&lt;http://emmo.info/datamodel#Metadata&gt;</td>\n",
       "      <td>Poisson ratio@en</td>\n",
       "      <td>1.0E0</td>\n",
       "      <td>SomeUnitSymbol</td>\n",
       "    </tr>\n",
       "    <tr>\n",
       "      <th>35</th>\n",
       "      <td>&lt;http://emmo.info/emmo/middle/metrology#EMMO_f...</td>\n",
       "      <td>Probenbreite</td>\n",
       "      <td>2.0015E1</td>\n",
       "      <td>mm</td>\n",
       "    </tr>\n",
       "    <tr>\n",
       "      <th>39</th>\n",
       "      <td>&lt;http://emmo.info/datamodel#Metadata&gt;</td>\n",
       "      <td>Probenbreite</td>\n",
       "      <td>2.0015E1</td>\n",
       "      <td>mm</td>\n",
       "    </tr>\n",
       "    <tr>\n",
       "      <th>41</th>\n",
       "      <td>&lt;http://emmo.info/datamodel#Metadata&gt;</td>\n",
       "      <td>Probendicke</td>\n",
       "      <td>1.513E0</td>\n",
       "      <td>mm</td>\n",
       "    </tr>\n",
       "    <tr>\n",
       "      <th>37</th>\n",
       "      <td>&lt;http://emmo.info/emmo/middle/metrology#EMMO_f...</td>\n",
       "      <td>Probendicke</td>\n",
       "      <td>1.513E0</td>\n",
       "      <td>mm</td>\n",
       "    </tr>\n",
       "    <tr>\n",
       "      <th>6</th>\n",
       "      <td>&lt;http://emmo.info/datamodel#Metadata&gt;</td>\n",
       "      <td>Proof strength@en</td>\n",
       "      <td>1.0E0</td>\n",
       "      <td>SomeUnitSymbol</td>\n",
       "    </tr>\n",
       "    <tr>\n",
       "      <th>22</th>\n",
       "      <td>&lt;http://emmo.info/datamodel#EnrichedParameter&gt;</td>\n",
       "      <td>Proof strength@en</td>\n",
       "      <td>1.0E0</td>\n",
       "      <td>SomeUnitSymbol</td>\n",
       "    </tr>\n",
       "    <tr>\n",
       "      <th>2</th>\n",
       "      <td>&lt;http://emmo.info/emmo/middle/metrology#EMMO_f...</td>\n",
       "      <td>Prüfgeschwindigkeit</td>\n",
       "      <td>2.4E-1</td>\n",
       "      <td>mm/s</td>\n",
       "    </tr>\n",
       "    <tr>\n",
       "      <th>17</th>\n",
       "      <td>&lt;http://emmo.info/datamodel#Metadata&gt;</td>\n",
       "      <td>Prüfgeschwindigkeit</td>\n",
       "      <td>2.4E-1</td>\n",
       "      <td>mm/s</td>\n",
       "    </tr>\n",
       "    <tr>\n",
       "      <th>1</th>\n",
       "      <td>&lt;http://emmo.info/emmo/middle/metrology#EMMO_f...</td>\n",
       "      <td>Temperatur</td>\n",
       "      <td>2.2E1</td>\n",
       "      <td>°C</td>\n",
       "    </tr>\n",
       "    <tr>\n",
       "      <th>16</th>\n",
       "      <td>&lt;http://emmo.info/datamodel#Metadata&gt;</td>\n",
       "      <td>Temperatur</td>\n",
       "      <td>2.2E1</td>\n",
       "      <td>°C</td>\n",
       "    </tr>\n",
       "    <tr>\n",
       "      <th>5</th>\n",
       "      <td>&lt;http://emmo.info/datamodel#Metadata&gt;</td>\n",
       "      <td>Tensile strength@en</td>\n",
       "      <td>1.0E0</td>\n",
       "      <td>SomeUnitSymbol</td>\n",
       "    </tr>\n",
       "    <tr>\n",
       "      <th>21</th>\n",
       "      <td>&lt;http://emmo.info/datamodel#EnrichedParameter&gt;</td>\n",
       "      <td>Tensile strength@en</td>\n",
       "      <td>1.0E0</td>\n",
       "      <td>SomeUnitSymbol</td>\n",
       "    </tr>\n",
       "    <tr>\n",
       "      <th>32</th>\n",
       "      <td>&lt;http://emmo.info/datamodel#EnrichedParameter&gt;</td>\n",
       "      <td>Uniform elongation@en</td>\n",
       "      <td>1.0E0</td>\n",
       "      <td>SomeUnitSymbol</td>\n",
       "    </tr>\n",
       "    <tr>\n",
       "      <th>13</th>\n",
       "      <td>&lt;http://emmo.info/datamodel#Metadata&gt;</td>\n",
       "      <td>Uniform elongation@en</td>\n",
       "      <td>1.0E0</td>\n",
       "      <td>SomeUnitSymbol</td>\n",
       "    </tr>\n",
       "    <tr>\n",
       "      <th>0</th>\n",
       "      <td>&lt;http://emmo.info/emmo/middle/metrology#EMMO_f...</td>\n",
       "      <td>Versuchslänge</td>\n",
       "      <td>1.2E2</td>\n",
       "      <td>mm</td>\n",
       "    </tr>\n",
       "    <tr>\n",
       "      <th>15</th>\n",
       "      <td>&lt;http://emmo.info/datamodel#Metadata&gt;</td>\n",
       "      <td>Versuchslänge</td>\n",
       "      <td>1.2E2</td>\n",
       "      <td>mm</td>\n",
       "    </tr>\n",
       "    <tr>\n",
       "      <th>42</th>\n",
       "      <td>&lt;http://emmo.info/datamodel#Metadata&gt;</td>\n",
       "      <td>Vorkraft</td>\n",
       "      <td>2.0E0</td>\n",
       "      <td>MPa</td>\n",
       "    </tr>\n",
       "    <tr>\n",
       "      <th>38</th>\n",
       "      <td>&lt;http://emmo.info/emmo/middle/metrology#EMMO_f...</td>\n",
       "      <td>Vorkraft</td>\n",
       "      <td>2.0E0</td>\n",
       "      <td>MPa</td>\n",
       "    </tr>\n",
       "    <tr>\n",
       "      <th>10</th>\n",
       "      <td>&lt;http://emmo.info/datamodel#Metadata&gt;</td>\n",
       "      <td>Youngs modulus@en</td>\n",
       "      <td>1.0E0</td>\n",
       "      <td>SomeUnitSymbol</td>\n",
       "    </tr>\n",
       "    <tr>\n",
       "      <th>28</th>\n",
       "      <td>&lt;http://emmo.info/datamodel#EnrichedParameter&gt;</td>\n",
       "      <td>Youngs modulus@en</td>\n",
       "      <td>1.0E0</td>\n",
       "      <td>SomeUnitSymbol</td>\n",
       "    </tr>\n",
       "    <tr>\n",
       "      <th>12</th>\n",
       "      <td>&lt;https://w3id.org/steel/ProcessOntology/FlowSt...</td>\n",
       "      <td>flow stress exponent@en</td>\n",
       "      <td>2.25E0</td>\n",
       "      <td>-</td>\n",
       "    </tr>\n",
       "    <tr>\n",
       "      <th>30</th>\n",
       "      <td>&lt;http://emmo.info/datamodel#Metadata&gt;</td>\n",
       "      <td>flow stress exponent@en</td>\n",
       "      <td>2.25E0</td>\n",
       "      <td>-</td>\n",
       "    </tr>\n",
       "    <tr>\n",
       "      <th>31</th>\n",
       "      <td>&lt;http://emmo.info/datamodel#EnrichedParameter&gt;</td>\n",
       "      <td>flow stress exponent@en</td>\n",
       "      <td>2.25E0</td>\n",
       "      <td>-</td>\n",
       "    </tr>\n",
       "    <tr>\n",
       "      <th>14</th>\n",
       "      <td>&lt;https://w3id.org/steel/ProcessOntology/Harden...</td>\n",
       "      <td>hardening moduli@en</td>\n",
       "      <td>7.5E1</td>\n",
       "      <td>MPa</td>\n",
       "    </tr>\n",
       "    <tr>\n",
       "      <th>33</th>\n",
       "      <td>&lt;http://emmo.info/datamodel#Metadata&gt;</td>\n",
       "      <td>hardening moduli@en</td>\n",
       "      <td>7.5E1</td>\n",
       "      <td>MPa</td>\n",
       "    </tr>\n",
       "    <tr>\n",
       "      <th>34</th>\n",
       "      <td>&lt;http://emmo.info/datamodel#EnrichedParameter&gt;</td>\n",
       "      <td>hardening moduli@en</td>\n",
       "      <td>7.5E1</td>\n",
       "      <td>MPa</td>\n",
       "    </tr>\n",
       "    <tr>\n",
       "      <th>20</th>\n",
       "      <td>&lt;http://emmo.info/datamodel#EnrichedParameter&gt;</td>\n",
       "      <td>initial flow stress@en</td>\n",
       "      <td>3.1E1</td>\n",
       "      <td>MPa</td>\n",
       "    </tr>\n",
       "    <tr>\n",
       "      <th>4</th>\n",
       "      <td>&lt;https://w3id.org/steel/ProcessOntology/Initia...</td>\n",
       "      <td>initial flow stress@en</td>\n",
       "      <td>3.1E1</td>\n",
       "      <td>MPa</td>\n",
       "    </tr>\n",
       "    <tr>\n",
       "      <th>19</th>\n",
       "      <td>&lt;http://emmo.info/datamodel#Metadata&gt;</td>\n",
       "      <td>initial flow stress@en</td>\n",
       "      <td>3.1E1</td>\n",
       "      <td>MPa</td>\n",
       "    </tr>\n",
       "    <tr>\n",
       "      <th>24</th>\n",
       "      <td>&lt;http://emmo.info/datamodel#EnrichedParameter&gt;</td>\n",
       "      <td>saturation flow stress@en</td>\n",
       "      <td>6.3E1</td>\n",
       "      <td>MPa</td>\n",
       "    </tr>\n",
       "    <tr>\n",
       "      <th>23</th>\n",
       "      <td>&lt;http://emmo.info/datamodel#Metadata&gt;</td>\n",
       "      <td>saturation flow stress@en</td>\n",
       "      <td>6.3E1</td>\n",
       "      <td>MPa</td>\n",
       "    </tr>\n",
       "    <tr>\n",
       "      <th>7</th>\n",
       "      <td>&lt;https://w3id.org/steel/ProcessOntology/FinalF...</td>\n",
       "      <td>saturation flow stress@en</td>\n",
       "      <td>6.3E1</td>\n",
       "      <td>MPa</td>\n",
       "    </tr>\n",
       "    <tr>\n",
       "      <th>25</th>\n",
       "      <td>&lt;http://emmo.info/datamodel#EnrichedParameter&gt;</td>\n",
       "      <td>some label@en</td>\n",
       "      <td>1.0E0</td>\n",
       "      <td>SomeUnitSymbol</td>\n",
       "    </tr>\n",
       "    <tr>\n",
       "      <th>8</th>\n",
       "      <td>&lt;http://emmo.info/datamodel#Metadata&gt;</td>\n",
       "      <td>some label@en</td>\n",
       "      <td>1.0E0</td>\n",
       "      <td>SomeUnitSymbol</td>\n",
       "    </tr>\n",
       "    <tr>\n",
       "      <th>26</th>\n",
       "      <td>&lt;https://w3id.org/steel/ProcessOntology/Stress...</td>\n",
       "      <td>stress exponent@en</td>\n",
       "      <td>2.0E0</td>\n",
       "      <td>-</td>\n",
       "    </tr>\n",
       "    <tr>\n",
       "      <th>9</th>\n",
       "      <td>&lt;http://emmo.info/datamodel#Metadata&gt;</td>\n",
       "      <td>stress exponent@en</td>\n",
       "      <td>2.0E0</td>\n",
       "      <td>-</td>\n",
       "    </tr>\n",
       "    <tr>\n",
       "      <th>27</th>\n",
       "      <td>&lt;http://emmo.info/datamodel#EnrichedParameter&gt;</td>\n",
       "      <td>stress exponent@en</td>\n",
       "      <td>2.0E0</td>\n",
       "      <td>-</td>\n",
       "    </tr>\n",
       "  </tbody>\n",
       "</table>\n",
       "</div>"
      ],
      "text/plain": [
       "                                           param_type  \\\n",
       "3               <http://emmo.info/datamodel#Metadata>   \n",
       "18     <http://emmo.info/datamodel#EnrichedParameter>   \n",
       "36  <http://emmo.info/emmo/middle/metrology#EMMO_f...   \n",
       "40              <http://emmo.info/datamodel#Metadata>   \n",
       "29     <http://emmo.info/datamodel#EnrichedParameter>   \n",
       "11              <http://emmo.info/datamodel#Metadata>   \n",
       "35  <http://emmo.info/emmo/middle/metrology#EMMO_f...   \n",
       "39              <http://emmo.info/datamodel#Metadata>   \n",
       "41              <http://emmo.info/datamodel#Metadata>   \n",
       "37  <http://emmo.info/emmo/middle/metrology#EMMO_f...   \n",
       "6               <http://emmo.info/datamodel#Metadata>   \n",
       "22     <http://emmo.info/datamodel#EnrichedParameter>   \n",
       "2   <http://emmo.info/emmo/middle/metrology#EMMO_f...   \n",
       "17              <http://emmo.info/datamodel#Metadata>   \n",
       "1   <http://emmo.info/emmo/middle/metrology#EMMO_f...   \n",
       "16              <http://emmo.info/datamodel#Metadata>   \n",
       "5               <http://emmo.info/datamodel#Metadata>   \n",
       "21     <http://emmo.info/datamodel#EnrichedParameter>   \n",
       "32     <http://emmo.info/datamodel#EnrichedParameter>   \n",
       "13              <http://emmo.info/datamodel#Metadata>   \n",
       "0   <http://emmo.info/emmo/middle/metrology#EMMO_f...   \n",
       "15              <http://emmo.info/datamodel#Metadata>   \n",
       "42              <http://emmo.info/datamodel#Metadata>   \n",
       "38  <http://emmo.info/emmo/middle/metrology#EMMO_f...   \n",
       "10              <http://emmo.info/datamodel#Metadata>   \n",
       "28     <http://emmo.info/datamodel#EnrichedParameter>   \n",
       "12  <https://w3id.org/steel/ProcessOntology/FlowSt...   \n",
       "30              <http://emmo.info/datamodel#Metadata>   \n",
       "31     <http://emmo.info/datamodel#EnrichedParameter>   \n",
       "14  <https://w3id.org/steel/ProcessOntology/Harden...   \n",
       "33              <http://emmo.info/datamodel#Metadata>   \n",
       "34     <http://emmo.info/datamodel#EnrichedParameter>   \n",
       "20     <http://emmo.info/datamodel#EnrichedParameter>   \n",
       "4   <https://w3id.org/steel/ProcessOntology/Initia...   \n",
       "19              <http://emmo.info/datamodel#Metadata>   \n",
       "24     <http://emmo.info/datamodel#EnrichedParameter>   \n",
       "23              <http://emmo.info/datamodel#Metadata>   \n",
       "7   <https://w3id.org/steel/ProcessOntology/FinalF...   \n",
       "25     <http://emmo.info/datamodel#EnrichedParameter>   \n",
       "8               <http://emmo.info/datamodel#Metadata>   \n",
       "26  <https://w3id.org/steel/ProcessOntology/Stress...   \n",
       "9               <http://emmo.info/datamodel#Metadata>   \n",
       "27     <http://emmo.info/datamodel#EnrichedParameter>   \n",
       "\n",
       "                        label       val      unit_label  \n",
       "3                  Density@en     1.0E0  SomeUnitSymbol  \n",
       "18                 Density@en     1.0E0  SomeUnitSymbol  \n",
       "36      Messlänge Standardweg     8.0E1              mm  \n",
       "40      Messlänge Standardweg     8.0E1              mm  \n",
       "29           Poisson ratio@en     1.0E0  SomeUnitSymbol  \n",
       "11           Poisson ratio@en     1.0E0  SomeUnitSymbol  \n",
       "35               Probenbreite  2.0015E1              mm  \n",
       "39               Probenbreite  2.0015E1              mm  \n",
       "41                Probendicke   1.513E0              mm  \n",
       "37                Probendicke   1.513E0              mm  \n",
       "6           Proof strength@en     1.0E0  SomeUnitSymbol  \n",
       "22          Proof strength@en     1.0E0  SomeUnitSymbol  \n",
       "2         Prüfgeschwindigkeit    2.4E-1            mm/s  \n",
       "17        Prüfgeschwindigkeit    2.4E-1            mm/s  \n",
       "1                  Temperatur     2.2E1              °C  \n",
       "16                 Temperatur     2.2E1              °C  \n",
       "5         Tensile strength@en     1.0E0  SomeUnitSymbol  \n",
       "21        Tensile strength@en     1.0E0  SomeUnitSymbol  \n",
       "32      Uniform elongation@en     1.0E0  SomeUnitSymbol  \n",
       "13      Uniform elongation@en     1.0E0  SomeUnitSymbol  \n",
       "0               Versuchslänge     1.2E2              mm  \n",
       "15              Versuchslänge     1.2E2              mm  \n",
       "42                   Vorkraft     2.0E0             MPa  \n",
       "38                   Vorkraft     2.0E0             MPa  \n",
       "10          Youngs modulus@en     1.0E0  SomeUnitSymbol  \n",
       "28          Youngs modulus@en     1.0E0  SomeUnitSymbol  \n",
       "12    flow stress exponent@en    2.25E0               -  \n",
       "30    flow stress exponent@en    2.25E0               -  \n",
       "31    flow stress exponent@en    2.25E0               -  \n",
       "14        hardening moduli@en     7.5E1             MPa  \n",
       "33        hardening moduli@en     7.5E1             MPa  \n",
       "34        hardening moduli@en     7.5E1             MPa  \n",
       "20     initial flow stress@en     3.1E1             MPa  \n",
       "4      initial flow stress@en     3.1E1             MPa  \n",
       "19     initial flow stress@en     3.1E1             MPa  \n",
       "24  saturation flow stress@en     6.3E1             MPa  \n",
       "23  saturation flow stress@en     6.3E1             MPa  \n",
       "7   saturation flow stress@en     6.3E1             MPa  \n",
       "25              some label@en     1.0E0  SomeUnitSymbol  \n",
       "8               some label@en     1.0E0  SomeUnitSymbol  \n",
       "26         stress exponent@en     2.0E0               -  \n",
       "9          stress exponent@en     2.0E0               -  \n",
       "27         stress exponent@en     2.0E0               -  "
      ]
     },
     "execution_count": 5,
     "metadata": {},
     "output_type": "execute_result"
    }
   ],
   "source": [
    "import requests\n",
    "import pandas as pd\n",
    "import numpy as np\n",
    "\n",
    "# set host variable\n",
    "host = \"stahldigital.materials-data.space\"\n",
    "\n",
    "# perform query\n",
    "response = requests.post(f\"https://{host}/api/knowledge/sparql\", json={\"query\": query})\n",
    "\n",
    "# parse into pandas df\n",
    "df = pd.read_json(response.json()['sparql'], orient='index')\n",
    "df = df.astype(str)\n",
    "df = df.applymap(lambda x: x.replace('\"', ''))\n",
    "df.sort_values(\"label\")"
   ]
  },
  {
   "cell_type": "code",
   "execution_count": 6,
   "id": "28e5e339-5c5d-4d30-be69-c40cf42a01d0",
   "metadata": {},
   "outputs": [],
   "source": [
    "E=float(np.asarray(df.loc[df['label'] == 'Youngs modulus@en','val'])[1])*175*1.0e9 # GPa\n",
    "nu=float(np.asarray(df.loc[df['label'] == 'Poisson ratio@en','val'])[1])*0.3 # Poisson ratio\n",
    "\n",
    "K=E/(3*(1-2*nu))\n",
    "mu=E/(2*(1+nu))\n",
    "\n",
    "C11=K+4*mu/3.0\n",
    "C12=K-2*mu/3.0\n",
    "C44=mu\n",
    "\n",
    "Hardening=float(np.asarray(df.loc[df['label'] == 'hardening moduli@en','val'])[1])*1.0e6 # unit is MPa\n",
    "Y0=float(np.asarray(df.loc[df['label'] == 'initial flow stress@en','val'])[1])*1.0e6 # unit is MPa\n",
    "Yinf=float(np.asarray(df.loc[df['label'] == 'saturation flow stress@en','val'])[1])*1.0e6 # unit is MPa\n",
    "a=float(np.asarray(df.loc[df['label'] == 'stress exponent@en','val'])[1]) # \n",
    "n=float(np.asarray(df.loc[df['label'] == 'flow stress exponent@en','val'])[1]) #"
   ]
  },
  {
   "cell_type": "markdown",
   "id": "15ab179c",
   "metadata": {},
   "source": [
    "### Put the values in Damask job"
   ]
  },
  {
   "cell_type": "code",
   "execution_count": 7,
   "id": "4af8d1b5-c76a-432c-99f3-97c1cc56d9ae",
   "metadata": {},
   "outputs": [],
   "source": [
    "elasticity = pr.continuum.damask.Elasticity(type= 'Hooke', C_11= C11,C_12= C12, C_44=C44)\n",
    "plasticity = pr.continuum.damask.Plasticity(type='phenopowerlaw',\n",
    "                                            N_sl=[12], a_sl=a,\n",
    "                                            atol_xi=1.0, dot_gamma_0_sl=0.001,\n",
    "                                            h_0_sl_sl=Hardening, h_sl_sl=[1, 1, 1.4, 1.4, 1.4, 1.4, 1.4],\n",
    "                                            n_sl=n, output=['xi_sl'],\n",
    "                                            xi_0_sl=[Y0], xi_inf_sl=[Yinf])"
   ]
  },
  {
   "cell_type": "markdown",
   "id": "40dbadbb-3967-4633-94b6-74873b0c2aba",
   "metadata": {},
   "source": [
    "## For material configuration, you need\n",
    "* phase\n",
    "* roation\n",
    "* homogenization"
   ]
  },
  {
   "cell_type": "code",
   "execution_count": 8,
   "id": "665dc11f-6bcb-4206-9efc-09b9d7c73d12",
   "metadata": {},
   "outputs": [],
   "source": [
    "grains = 4\n",
    "grids = 4\n",
    "\n",
    "phase = pr.continuum.damask.Phase(composition='Steel', lattice= 'cF',\n",
    "                         output_list=['F', 'P', 'F_e', 'F_p', 'L_p', 'O'],\n",
    "                         elasticity=elasticity,plasticity=plasticity)\n",
    "rotation = pr.continuum.damask.Rotation(Rotation.from_random, grains)\n",
    "\n",
    "homogenization = pr.continuum.damask.Homogenization(method='SX', \n",
    "                                                     parameters={'N_constituents': 1,\n",
    "                                                                 \"mechanical\": {\"type\": \"pass\"}})\n",
    "\n",
    "# now you can define your material.yaml configuration\n",
    "material = pr.continuum.damask.Material([rotation],['Steel'], phase, homogenization)\n",
    "\n",
    "# now you can save your material to your job\n",
    "job.material = material"
   ]
  },
  {
   "cell_type": "markdown",
   "id": "2dc51d80-7906-4787-afb1-cca0598ecc25",
   "metadata": {},
   "source": [
    "## For geometry information"
   ]
  },
  {
   "cell_type": "code",
   "execution_count": 9,
   "id": "459f5a60-d7c8-4627-8c8f-ebb9f25644f6",
   "metadata": {},
   "outputs": [],
   "source": [
    "grid = pr.continuum.damask.Grid.via_voronoi_tessellation(box_size=10.0e-6, grid_dim=grids, num_grains=grains)\n",
    "\n",
    "# save the geometry information to your job\n",
    "job.grid = grid "
   ]
  },
  {
   "cell_type": "markdown",
   "id": "6465ba01-fc40-46e7-91a9-101cc99e8790",
   "metadata": {},
   "source": [
    "# Define the 1st rolling test"
   ]
  },
  {
   "cell_type": "code",
   "execution_count": 10,
   "id": "7b286a20-0a96-4f11-829f-e5b79ff5cfbf",
   "metadata": {},
   "outputs": [
    {
     "name": "stdout",
     "output_type": "stream",
     "text": [
      "working dir: /home/ybai/Projects/GitHub/pyiron_continuum/notebooks/RollingTest/damask_job_hdf5/damask_job\n",
      "solver: {mechanical: spectral_basic}\n",
      "\n",
      "loadstep:\n",
      "  - boundary_conditions:\n",
      "      mechanical:\n",
      "        P:\n",
      "          - [0, x, x]\n",
      "          - [x, x, x]\n",
      "          - [x, x, x]\n",
      "        dot_F:\n",
      "          - [x, 0, 0]\n",
      "          - [0, 0, 0]\n",
      "          - [0, 0, -0.045]\n",
      "    discretization: {t: 1.777777777777778, N: 150}\n",
      "    f_out: 5\n",
      "    f_restart: 5\n",
      "\n",
      "Start the first rolling test ...\n",
      "First rolling test is done !\n"
     ]
    }
   ],
   "source": [
    "reduction_height = 0.08\n",
    "reduction_speed = 4.5e-2\n",
    "reduction_outputs = 150\n",
    "regrid_flag=False\n",
    "damask_exe = '' # using default DAMASK_grid solver from PATH\n",
    "\n",
    "# execute the rolling test\n",
    "job.executeRolling(reduction_height,reduction_speed,reduction_outputs,regrid_flag,damask_exe)"
   ]
  },
  {
   "cell_type": "code",
   "execution_count": 11,
   "id": "1f427950-0cf2-4620-ad79-18b5480d7129",
   "metadata": {},
   "outputs": [
    {
     "name": "stderr",
     "output_type": "stream",
     "text": [
      " ██████████████████████████████████████████████████ 100% ETA 0:00:00\n",
      " ██████████████████████████████████████████████████ 100% ETA 0:00:00\n",
      " ██████████████████████████████████████████████████ 100% ETA 0:00:00\n",
      " ██████████████████████████████████████████████████ 100% ETA 0:00:00\n",
      " ██████████████████████████████████████████████████ 100% ETA 0:00:00\n",
      " ██████████████████████████████████████████████████ 100% ETA 0:00:00\n",
      " ██████████████████████████████████████████████████ 100% ETA 0:00:00\n",
      " ██████████████████████████████████████████████████ 100% ETA 0:00:00\n",
      " ██████████████████████████████████████████████████ 100% ETA 0:00:00\n",
      " ██████████████████████████████████████████████████ 100% ETA 0:00:00\n",
      " ██████████████████████████████████████████████████ 100% ETA 0:00:00\n",
      " ██████████████████████████████████████████████████ 100% ETA 0:00:00\n"
     ]
    },
    {
     "data": {
      "image/png": "[encoded data removed]",
      "text/plain": [
       "<Figure size 640x480 with 1 Axes>"
      ]
     },
     "metadata": {},
     "output_type": "display_data"
    }
   ],
   "source": [
    "# show the result\n",
    "job.postProcess() # do the postprocess\n",
    "job.plotStressStrainCurve(-0.005,0.5,0.0,7.5e8) # xmin,xmax, ymin,ymax"
   ]
  },
  {
   "cell_type": "markdown",
   "id": "d3a7031e-fa74-430d-ab99-293cb7a6d927",
   "metadata": {},
   "source": [
    "# Define the 2nd rolling test"
   ]
  },
  {
   "cell_type": "code",
   "execution_count": 12,
   "id": "f7b46d62-5edd-4791-9aab-bfdb1d7b9859",
   "metadata": {},
   "outputs": [
    {
     "name": "stdout",
     "output_type": "stream",
     "text": [
      "------------------------\n",
      "Start to regrid the geometry ...\n",
      "initial RVE size:\t [1.e-05 1.e-05 1.e-05]\n",
      "regridded RVE size:\t [1.084933e-05 1.000000e-05 9.200000e-06]\n",
      "initial grid seeds:\t [4 4 4]\n",
      "regridded grid seeds:\t [5 4 4]\n",
      "finding the nearest neighbors...\n",
      "all the information are ready !\n",
      "save regrid geometry to damask_regridded_increment_150.vti\n",
      "removing the existing restart file.\n",
      "A regridding history file is created.\n",
      "------------------------\n",
      "Regridding process is completed.\n",
      "Start the rolling-2 test ...\n",
      "Rolling-2 test is done !\n"
     ]
    }
   ],
   "source": [
    "reduction_height = 0.08\n",
    "reduction_speed = 4.5e-2\n",
    "reduction_outputs = 300\n",
    "regrid_flag=True\n",
    "damask_exe = '' # using default DAMASK_grid solver from PATH\n",
    "\n",
    "# execute the rolling test\n",
    "job.executeRolling(reduction_height,reduction_speed,reduction_outputs,regrid_flag,damask_exe)"
   ]
  },
  {
   "cell_type": "code",
   "execution_count": 13,
   "id": "6cef358e-32e1-4c24-beee-0c4004d2f9eb",
   "metadata": {},
   "outputs": [
    {
     "name": "stderr",
     "output_type": "stream",
     "text": [
      " ██████████████████████████████████████████████████ 100% ETA 0:00:00\n",
      " ██████████████████████████████████████████████████ 100% ETA 0:00:00\n",
      " ██████████████████████████████████████████████████ 100% ETA 0:00:00\n",
      " ██████████████████████████████████████████████████ 100% ETA 0:00:00\n",
      " ██████████████████████████████████████████████████ 100% ETA 0:00:00\n",
      " ██████████████████████████████████████████████████ 100% ETA 0:00:00\n",
      " ██████████████████████████████████████████████████ 100% ETA 0:00:00\n",
      " ██████████████████████████████████████████████████ 100% ETA 0:00:00\n",
      " ██████████████████████████████████████████████████ 100% ETA 0:00:00\n",
      " ██████████████████████████████████████████████████ 100% ETA 0:00:00\n",
      " ██████████████████████████████████████████████████ 100% ETA 0:00:00\n",
      " ██████████████████████████████████████████████████ 100% ETA 0:00:00\n"
     ]
    },
    {
     "data": {
      "image/png": "[encoded data removed]",
      "text/plain": [
       "<Figure size 640x480 with 1 Axes>"
      ]
     },
     "metadata": {},
     "output_type": "display_data"
    }
   ],
   "source": [
    "# show the result\n",
    "job.postProcess() # do the postprocess\n",
    "job.plotStressStrainCurve(-0.005,0.5,0.0,7.5e8) # xmin,xmax, ymin,ymax"
   ]
  },
  {
   "cell_type": "markdown",
   "id": "2f792c62-3ad0-4293-b4d1-112ca29dede2",
   "metadata": {},
   "source": [
    "# Define the 3rd rolling test"
   ]
  },
  {
   "cell_type": "code",
   "execution_count": 14,
   "id": "5001ca3b-2fc7-4ddc-a823-652bf212b1db",
   "metadata": {},
   "outputs": [
    {
     "name": "stdout",
     "output_type": "stream",
     "text": [
      "------------------------\n",
      "Start to regrid the geometry ...\n",
      "initial RVE size:\t [1.084933e-05 1.000000e-05 9.200000e-06]\n",
      "regridded RVE size:\t [1.28883815e-05 1.00000000e-05 7.72800000e-06]\n",
      "initial grid seeds:\t [5 4 4]\n",
      "regridded grid seeds:\t [7 5 4]\n",
      "finding the nearest neighbors...\n",
      "all the information are ready !\n",
      "save regrid geometry to damask_regridded_increment_150_regridded_increment_450.vti\n",
      "removing the existing restart file.\n",
      "A regridding history file is created.\n",
      "------------------------\n",
      "Regridding process is completed.\n",
      "Start the rolling-3 test ...\n",
      "Rolling-3 test is done !\n"
     ]
    }
   ],
   "source": [
    "reduction_height = 0.085\n",
    "reduction_speed = 4.5e-2\n",
    "reduction_outputs = 350\n",
    "regrid_flag=True\n",
    "damask_exe = '' # using default DAMASK_grid solver from PATH\n",
    "\n",
    "# execute the rolling test\n",
    "job.executeRolling(reduction_height,reduction_speed,reduction_outputs,regrid_flag,damask_exe)"
   ]
  },
  {
   "cell_type": "code",
   "execution_count": 15,
   "id": "59ed42d6-5f2c-484e-bd49-0b94e6f406ff",
   "metadata": {},
   "outputs": [
    {
     "name": "stderr",
     "output_type": "stream",
     "text": [
      " ██████████████████████████████████████████████████ 100% ETA 0:00:00\n",
      " ██████████████████████████████████████████████████ 100% ETA 0:00:00\n",
      " ██████████████████████████████████████████████████ 100% ETA 0:00:00\n",
      " ██████████████████████████████████████████████████ 100% ETA 0:00:00\n",
      " ██████████████████████████████████████████████████ 100% ETA 0:00:00\n",
      " ██████████████████████████████████████████████████ 100% ETA 0:00:00\n",
      " ██████████████████████████████████████████████████ 100% ETA 0:00:00\n",
      " ██████████████████████████████████████████████████ 100% ETA 0:00:00\n",
      " ██████████████████████████████████████████████████ 100% ETA 0:00:00\n",
      " ██████████████████████████████████████████████████ 100% ETA 0:00:00\n",
      " ██████████████████████████████████████████████████ 100% ETA 0:00:00\n",
      " ██████████████████████████████████████████████████ 100% ETA 0:00:00\n"
     ]
    },
    {
     "data": {
      "image/png": "[encoded data removed]",
      "text/plain": [
       "<Figure size 640x480 with 1 Axes>"
      ]
     },
     "metadata": {},
     "output_type": "display_data"
    }
   ],
   "source": [
    "# show the result\n",
    "job.postProcess() # do the postprocess\n",
    "job.plotStressStrainCurve(-0.005,0.5,0.0,7.5e8) # xmin,xmax, ymin,ymax"
   ]
  },
  {
   "cell_type": "markdown",
   "id": "603660c9-d89e-4cae-86d5-e726035fabb0",
   "metadata": {},
   "source": [
    "# Define the 4th rolling test"
   ]
  },
  {
   "cell_type": "code",
   "execution_count": 16,
   "id": "4552765d-19fc-41c2-9338-b222bfdb8b47",
   "metadata": {},
   "outputs": [
    {
     "name": "stdout",
     "output_type": "stream",
     "text": [
      "------------------------\n",
      "Start to regrid the geometry ...\n",
      "initial RVE size:\t [1.28883815e-05 1.00000000e-05 7.72800000e-06]\n",
      "regridded RVE size:\t [1.70302409e-05 1.00000000e-05 5.83464000e-06]\n",
      "initial grid seeds:\t [7 5 4]\n",
      "regridded grid seeds:\t [12  7  4]\n",
      "finding the nearest neighbors...\n",
      "all the information are ready !\n",
      "save regrid geometry to damask_regridded_increment_150_regridded_increment_450_regridded_increment_800.vti\n",
      "removing the existing restart file.\n",
      "A regridding history file is created.\n",
      "------------------------\n",
      "Regridding process is completed.\n",
      "Start the rolling-4 test ...\n",
      "Rolling-4 test is done !\n"
     ]
    }
   ],
   "source": [
    "reduction_height = 0.085\n",
    "reduction_speed = 4.5e-2\n",
    "reduction_outputs = 350\n",
    "regrid_flag=True\n",
    "damask_exe = '' # using default DAMASK_grid solver from PATH\n",
    "\n",
    "# execute the rolling test\n",
    "job.executeRolling(reduction_height,reduction_speed,reduction_outputs,regrid_flag,damask_exe)"
   ]
  },
  {
   "cell_type": "code",
   "execution_count": 17,
   "id": "f3e7ec0e",
   "metadata": {},
   "outputs": [
    {
     "name": "stderr",
     "output_type": "stream",
     "text": [
      " ██████████████████████████████████████████████████ 100% ETA 0:00:00\n",
      " ██████████████████████████████████████████████████ 100% ETA 0:00:00\n",
      " ██████████████████████████████████████████████████ 100% ETA 0:00:00\n",
      " ██████████████████████████████████████████████████ 100% ETA 0:00:00\n",
      " ██████████████████████████████████████████████████ 100% ETA 0:00:00\n",
      " ██████████████████████████████████████████████████ 100% ETA 0:00:00\n",
      " ██████████████████████████████████████████████████ 100% ETA 0:00:00\n",
      " ██████████████████████████████████████████████████ 100% ETA 0:00:00\n",
      " ██████████████████████████████████████████████████ 100% ETA 0:00:00\n",
      " ██████████████████████████████████████████████████ 100% ETA 0:00:00\n",
      " ██████████████████████████████████████████████████ 100% ETA 0:00:00\n",
      " ██████████████████████████████████████████████████ 100% ETA 0:00:00\n"
     ]
    },
    {
     "data": {
      "image/png": "[encoded data removed]",
      "text/plain": [
       "<Figure size 640x480 with 1 Axes>"
      ]
     },
     "metadata": {},
     "output_type": "display_data"
    }
   ],
   "source": [
    "# show the result\n",
    "job.postProcess() # do the postprocess\n",
    "job.plotStressStrainCurve(-0.005,0.5,0.0,7.5e8) # xmin,xmax, ymin,ymax"
   ]
  },
  {
   "cell_type": "code",
   "execution_count": 18,
   "id": "9abd50df",
   "metadata": {},
   "outputs": [
    {
     "name": "stdout",
     "output_type": "stream",
     "text": [
      "['damask_load.hdf5', 'damask_regridded_increment_150_load_rolling2.hdf5', 'damask_regridded_increment_150_regridded_increment_450_load_rolling3.hdf5', 'damask_regridded_increment_150_regridded_increment_450_regridded_increment_800_load_rolling4.hdf5']\n"
     ]
    }
   ],
   "source": [
    "# List out all the hdf5 results file\n",
    "print(job.ResultsFile)"
   ]
  },
  {
   "cell_type": "code",
   "execution_count": null,
   "id": "6f3affd0-0ab1-4ecd-b636-9f7440b2702e",
   "metadata": {},
   "outputs": [],
   "source": []
  }
 ],
 "metadata": {
  "kernelspec": {
   "display_name": "Python 3 (ipykernel)",
   "language": "python",
   "name": "python3"
  },
  "language_info": {
   "codemirror_mode": {
    "name": "ipython",
    "version": 3
   },
   "file_extension": ".py",
   "mimetype": "text/x-python",
   "name": "python",
   "nbconvert_exporter": "python",
   "pygments_lexer": "ipython3",
   "version": "3.11.4"
  }
 },
 "nbformat": 4,
 "nbformat_minor": 5
}

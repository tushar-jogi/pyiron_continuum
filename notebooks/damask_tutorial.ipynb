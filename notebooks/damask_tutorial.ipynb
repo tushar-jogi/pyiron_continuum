{
 "cells": [
  {
   "cell_type": "markdown",
   "id": "d0c61026-3a4c-4e5e-9d61-fdfafca74244",
   "metadata": {},
   "source": [
    "# DAMASK tutorial\n",
    "- creating necessary inputs for damask\n",
    "- runing the damask jobs\n",
    "\n",
    "here more option is given to the user to select from damask python package itself."
   ]
  },
  {
   "cell_type": "markdown",
   "id": "ef3b0f8f-f536-445e-b5a5-80127c731dc5",
   "metadata": {},
   "source": [
    "## Importing libraries and creatign Project"
   ]
  },
  {
   "cell_type": "code",
   "execution_count": 1,
   "id": "eb2b9de9-0c2a-48ca-a63e-046abe4f56cf",
   "metadata": {},
   "outputs": [],
   "source": [
    "from pyiron_continuum import Project\n",
    "from damask import Rotation"
   ]
  },
  {
   "cell_type": "code",
   "execution_count": 2,
   "id": "1ce13de4-6314-4150-9939-13668098164c",
   "metadata": {},
   "outputs": [],
   "source": [
    "pr = Project(\"damask_proj\")"
   ]
  },
  {
   "cell_type": "code",
   "execution_count": 3,
   "id": "360189ad-8345-4efa-a5c4-cc381b110a50",
   "metadata": {},
   "outputs": [
    {
     "data": {
      "application/vnd.jupyter.widget-view+json": {
       "model_id": "4e24d1c2b989469f8614da3cb2fa3682",
       "version_major": 2,
       "version_minor": 0
      },
      "text/plain": [
       "  0%|          | 0/1 [00:00<?, ?it/s]"
      ]
     },
     "metadata": {},
     "output_type": "display_data"
    }
   ],
   "source": [
    "pr.remove_jobs(silently=True) # remove the old or existing folder"
   ]
  },
  {
   "cell_type": "markdown",
   "id": "f9938eb9-7ab3-4440-84dc-e0c2419984e7",
   "metadata": {},
   "source": [
    "## Creating the Damask job"
   ]
  },
  {
   "cell_type": "code",
   "execution_count": 4,
   "id": "34539f6b-0e53-4f49-a7b2-b42e6cc74f09",
   "metadata": {},
   "outputs": [],
   "source": [
    "job = pr.create.job.DAMASK(\"damask_job\")"
   ]
  },
  {
   "cell_type": "markdown",
   "id": "1dfa818a-b6e3-4abd-8a00-39a3ffd2424c",
   "metadata": {},
   "source": [
    "## Creating the necessary inputs"
   ]
  },
  {
   "cell_type": "code",
   "execution_count": 5,
   "id": "6512f434-10fe-49d8-82da-555001502ea4",
   "metadata": {},
   "outputs": [],
   "source": [
    "grains=5;grids=8 # defines the number of grains and grids"
   ]
  },
  {
   "cell_type": "markdown",
   "id": "af0167a1-2c9d-49c0-8d68-ffa248d00de9",
   "metadata": {},
   "source": [
    "### Homogenization"
   ]
  },
  {
   "cell_type": "code",
   "execution_count": 6,
   "id": "bcf4da2a-6253-4e73-a6d3-5e434b7de1fe",
   "metadata": {},
   "outputs": [],
   "source": [
    "homogenization = pr.create.DAMASK.homogenization(method='SX', \n",
    "                                                 parameters={'N_constituents': 1,\n",
    "                                                             \"mechanical\": {\"type\": \"pass\"}})"
   ]
  },
  {
   "cell_type": "code",
   "execution_count": 7,
   "id": "2a96e114-7cea-49dd-959c-50e63498e47c",
   "metadata": {},
   "outputs": [],
   "source": [
    "homogenization = pr.continuum.damask.Homogenization(method='SX', \n",
    "                                                     parameters={'N_constituents': 1,\n",
    "                                                                 \"mechanical\": {\"type\": \"pass\"}})"
   ]
  },
  {
   "cell_type": "markdown",
   "id": "b1af7a42-951f-4d0f-bb56-5d6ea18b92e5",
   "metadata": {},
   "source": [
    "### Elasticity"
   ]
  },
  {
   "cell_type": "code",
   "execution_count": 8,
   "id": "8e8a1801-467a-4260-b14e-433265f08fa9",
   "metadata": {},
   "outputs": [],
   "source": [
    "elasticity = pr.continuum.damask.Elasticity(type= 'Hooke', C_11= 106.75e9,\n",
    "                                   C_12= 60.41e9, C_44=28.34e9)"
   ]
  },
  {
   "cell_type": "markdown",
   "id": "71b5659e-ade4-4bfb-a80c-79d77f3366bf",
   "metadata": {},
   "source": [
    "### Plasticity"
   ]
  },
  {
   "cell_type": "code",
   "execution_count": 9,
   "id": "24b6b8a1-7e0a-4836-b230-e29fbfbc370f",
   "metadata": {},
   "outputs": [],
   "source": [
    "plasticity = pr.continuum.damask.Plasticity(type='phenopowerlaw',\n",
    "                                            N_sl=[12],a_sl=[2.25],\n",
    "                                            atol_xi=1.0,dot_gamma_0_sl=[0.001],\n",
    "                                            h_0_sl_sl=[75.0e6],\n",
    "                                            h_sl_sl=[1, 1, 1.4, 1.4, 1.4, 1.4, 1.4],\n",
    "                                            n_sl=[20],\n",
    "                                            output=['xi_sl'],\n",
    "                                            xi_0_sl=[31.0e6],\n",
    "                                            xi_inf_sl=[63.0e6]\n",
    "                                           )  "
   ]
  },
  {
   "cell_type": "markdown",
   "id": "c4599715-e2e7-43aa-ab86-c0a26fe862a7",
   "metadata": {},
   "source": [
    "### Phase"
   ]
  },
  {
   "cell_type": "code",
   "execution_count": 10,
   "id": "7d018837-f07e-4f01-8436-683e12257489",
   "metadata": {},
   "outputs": [],
   "source": [
    "phase = pr.continuum.damask.Phase(composition='Aluminum', lattice= 'cF',\n",
    "                         output_list=['F', 'P', 'F_e', 'F_p', 'L_p', 'O'],\n",
    "                         elasticity=elasticity, plasticity=plasticity)"
   ]
  },
  {
   "cell_type": "markdown",
   "id": "ce4d182d-85ee-40f1-946e-eaa1005a7e03",
   "metadata": {},
   "source": [
    "### Rotation"
   ]
  },
  {
   "cell_type": "code",
   "execution_count": 11,
   "id": "d93eda97-b7ce-4572-8ce3-b8d34672e274",
   "metadata": {},
   "outputs": [],
   "source": [
    "rotation = pr.continuum.damask.Rotation(Rotation.from_random, grains)"
   ]
  },
  {
   "cell_type": "markdown",
   "id": "e39e9e82-c289-4322-ba9e-f03c3580e03e",
   "metadata": {},
   "source": [
    "### Material"
   ]
  },
  {
   "cell_type": "code",
   "execution_count": 12,
   "id": "dfb6237e-1dbf-47ba-9f50-e580456e9760",
   "metadata": {},
   "outputs": [],
   "source": [
    "material = pr.continuum.damask.Material([rotation],['Aluminum'], phase, homogenization)"
   ]
  },
  {
   "cell_type": "code",
   "execution_count": 13,
   "id": "d633c7d0-c47f-4d2d-aaa4-22c9d980d136",
   "metadata": {},
   "outputs": [],
   "source": [
    "job.material = material"
   ]
  },
  {
   "cell_type": "markdown",
   "id": "583ae5d3-d057-41b7-ad15-249564316cec",
   "metadata": {},
   "source": [
    "### Grid"
   ]
  },
  {
   "cell_type": "code",
   "execution_count": 14,
   "id": "f2cde993-9ccc-4c04-9fa0-0e7ad1832483",
   "metadata": {},
   "outputs": [],
   "source": [
    "grid = pr.continuum.damask.Grid.via_voronoi_tessellation(box_size=1.0e-5, spatial_discretization=grids, num_grains=grains)"
   ]
  },
  {
   "cell_type": "code",
   "execution_count": 15,
   "id": "4642dc1d-2b9b-4ccc-bf2b-e66054ec11eb",
   "metadata": {},
   "outputs": [],
   "source": [
    "job.grid = grid"
   ]
  },
  {
   "cell_type": "markdown",
   "id": "0f2fda22-7d5c-42bb-9aba-f1aebe58279d",
   "metadata": {},
   "source": [
    "### Loading"
   ]
  },
  {
   "cell_type": "code",
   "execution_count": 16,
   "id": "48fa531a-5785-41b1-91f2-49aafdc296da",
   "metadata": {},
   "outputs": [],
   "source": [
    "load_step =[{'mech_bc_dict':{'dot_F':[1e-3,0,0, 0,'x',0,  0,0,'x'],\n",
    "                            'P':['x','x','x', 'x',0,'x',  'x','x',0]},\n",
    "            'discretization':{'t': 10.,'N': 40},\n",
    "            'additional': {'f_out': 4}\n",
    "           },{'mech_bc_dict':{'dot_F':[1e-3,0,0, 0,'x',0,  0,0,'x'],\n",
    "                              'P':['x','x','x', 'x',0,'x',  'x','x',0]},\n",
    "            'discretization':{'t': 60.,'N': 60},\n",
    "            'additional': {'f_out': 4}\n",
    "           }]"
   ]
  },
  {
   "cell_type": "code",
   "execution_count": 17,
   "id": "47aba5c8-9371-459d-979b-8ae3c012b981",
   "metadata": {},
   "outputs": [],
   "source": [
    "solver = job.list_solvers()[0]"
   ]
  },
  {
   "cell_type": "code",
   "execution_count": 18,
   "id": "664ddbd9-a2c8-423e-a1ef-7fb3e1cb5d40",
   "metadata": {},
   "outputs": [],
   "source": [
    "job.loading = pr.continuum.damask.Loading(solver=solver, load_steps=load_step)"
   ]
  },
  {
   "cell_type": "markdown",
   "id": "2bfb7e7f-659e-493e-8696-42e2073912fa",
   "metadata": {},
   "source": [
    "## Runing the job"
   ]
  },
  {
   "cell_type": "code",
   "execution_count": 19,
   "id": "03f5d0df-92b0-4fed-b9fa-996bff478bc1",
   "metadata": {},
   "outputs": [
    {
     "name": "stdout",
     "output_type": "stream",
     "text": [
      "The job damask_job was saved and received the ID: 10\n"
     ]
    },
    {
     "name": "stderr",
     "output_type": "stream",
     "text": [
      " ██████████████████████████████████████████████████ 100% ETA 0:00:00\n",
      " ██████████████████████████████████████████████████ 100% ETA 0:00:00\n",
      " ██████████████████████████████████████████████████ 100% ETA 0:00:00\n",
      " ██████████████████████████████████████████████████ 100% ETA 0:00:00\n",
      " ██████████████████████████████████████████████████ 100% ETA 0:00:00\n",
      " ██████████████████████████████████████████████████ 100% ETA 0:00:00\n",
      " ██████████████████████████████████████████████████ 100% ETA 0:00:00\n",
      " ██████████████████████████████████████████████████ 100% ETA 0:00:00\n",
      " ██████████████████████████████████████████████████ 100% ETA 0:00:00\n",
      " ██████████████████████████████████████████████████ 100% ETA 0:00:00\n",
      " ██████████████████████████████████████████████████ 100% ETA 0:00:00\n",
      " ██████████████████████████████████████████████████ 100% ETA 0:00:00\n"
     ]
    }
   ],
   "source": [
    "job.run()"
   ]
  },
  {
   "cell_type": "code",
   "execution_count": 20,
   "id": "b40ba0b4-12bb-4fa6-9e58-934afbc2781a",
   "metadata": {},
   "outputs": [
    {
     "data": {
      "text/html": [
       "<div>\n",
       "<style scoped>\n",
       "    .dataframe tbody tr th:only-of-type {\n",
       "        vertical-align: middle;\n",
       "    }\n",
       "\n",
       "    .dataframe tbody tr th {\n",
       "        vertical-align: top;\n",
       "    }\n",
       "\n",
       "    .dataframe thead th {\n",
       "        text-align: right;\n",
       "    }\n",
       "</style>\n",
       "<table border=\"1\" class=\"dataframe\">\n",
       "  <thead>\n",
       "    <tr style=\"text-align: right;\">\n",
       "      <th></th>\n",
       "      <th>id</th>\n",
       "      <th>status</th>\n",
       "      <th>chemicalformula</th>\n",
       "      <th>job</th>\n",
       "      <th>subjob</th>\n",
       "      <th>projectpath</th>\n",
       "      <th>project</th>\n",
       "      <th>timestart</th>\n",
       "      <th>timestop</th>\n",
       "      <th>totalcputime</th>\n",
       "      <th>computer</th>\n",
       "      <th>hamilton</th>\n",
       "      <th>hamversion</th>\n",
       "      <th>parentid</th>\n",
       "      <th>masterid</th>\n",
       "    </tr>\n",
       "  </thead>\n",
       "  <tbody>\n",
       "    <tr>\n",
       "      <th>0</th>\n",
       "      <td>10</td>\n",
       "      <td>finished</td>\n",
       "      <td>None</td>\n",
       "      <td>damask_job</td>\n",
       "      <td>/damask_job</td>\n",
       "      <td>None</td>\n",
       "      <td>/home/by/Projects/GitHub/pyiron_continuum/notebooks/damask_proj/</td>\n",
       "      <td>2024-03-28 21:50:14.223965</td>\n",
       "      <td>2024-03-28 21:50:20.259963</td>\n",
       "      <td>6.0</td>\n",
       "      <td>pyiron@by#1</td>\n",
       "      <td>DAMASK</td>\n",
       "      <td>0.4</td>\n",
       "      <td>None</td>\n",
       "      <td>None</td>\n",
       "    </tr>\n",
       "  </tbody>\n",
       "</table>\n",
       "</div>"
      ],
      "text/plain": [
       "   id    status chemicalformula         job       subjob projectpath  \\\n",
       "0  10  finished            None  damask_job  /damask_job        None   \n",
       "\n",
       "                                                            project  \\\n",
       "0  /home/by/Projects/GitHub/pyiron_continuum/notebooks/damask_proj/   \n",
       "\n",
       "                   timestart                   timestop  totalcputime  \\\n",
       "0 2024-03-28 21:50:14.223965 2024-03-28 21:50:20.259963           6.0   \n",
       "\n",
       "      computer hamilton hamversion parentid masterid  \n",
       "0  pyiron@by#1   DAMASK        0.4     None     None  "
      ]
     },
     "execution_count": 20,
     "metadata": {},
     "output_type": "execute_result"
    }
   ],
   "source": [
    "pr.job_table()"
   ]
  },
  {
   "cell_type": "markdown",
   "id": "841da73c-cc70-4131-b27c-ed6918c0c8d9",
   "metadata": {},
   "source": [
    "## Post-processing"
   ]
  },
  {
   "cell_type": "code",
   "execution_count": 21,
   "id": "58488412-85a1-468c-a150-75dae0aeb5cf",
   "metadata": {},
   "outputs": [
    {
     "data": {
      "text/plain": [
       "(<Figure size 640x480 with 1 Axes>,\n",
       " <Axes: xlabel='$\\\\varepsilon_z$$_z$', ylabel='$\\\\sigma_z$$_z$(Pa)'>)"
      ]
     },
     "execution_count": 21,
     "metadata": {},
     "output_type": "execute_result"
    },
    {
     "data": {
      "image/png": "[encoded data removed]",
      "text/plain": [
       "<Figure size 640x480 with 1 Axes>"
      ]
     },
     "metadata": {},
     "output_type": "display_data"
    }
   ],
   "source": [
    "job.plot_stress_strain(component='zz')"
   ]
  },
  {
   "cell_type": "code",
   "execution_count": 22,
   "id": "d8a821fb-34f6-4f04-9f40-12b04477b12b",
   "metadata": {},
   "outputs": [
    {
     "data": {
      "text/plain": [
       "(<Figure size 640x480 with 1 Axes>,\n",
       " <Axes: xlabel='$\\\\varepsilon_{vM}$', ylabel='$\\\\sigma_{vM}$ (Pa)'>)"
      ]
     },
     "execution_count": 22,
     "metadata": {},
     "output_type": "execute_result"
    },
    {
     "data": {
      "image/png": "[encoded data removed]",
      "text/plain": [
       "<Figure size 640x480 with 1 Axes>"
      ]
     },
     "metadata": {},
     "output_type": "display_data"
    }
   ],
   "source": [
    "job.plot_stress_strain(von_mises=True)"
   ]
  },
  {
   "cell_type": "code",
   "execution_count": 23,
   "id": "89e9f3aa-d673-4c39-af25-9366edabbb45",
   "metadata": {},
   "outputs": [
    {
     "data": {
      "text/plain": [
       "\u001b[2mCreated by DAMASK_grid v3.0.0-alpha8\n",
       "        on 2024-03-28 21:50:14+0100\n",
       " executing \"DAMASK_grid -l loading.yaml -g damask.vti -m material.yaml\"\u001b[0m\n",
       "\n",
       "increment_80 (50.0 s)\n",
       "  phase\n",
       "    Aluminum\n",
       "      mechanical\n",
       "        F / 1: deformation gradient\n",
       "        F_e / 1: elastic deformation gradient\n",
       "        F_p / 1: plastic deformation gradient\n",
       "        L_p / 1/s: plastic velocity gradient\n",
       "        O / 1: crystal orientation as quaternion q_0 (q_1 q_2 q_3)\n",
       "        P / Pa: first Piola-Kirchhoff stress\n",
       "        epsilon_V^0.0(F) / 1: Seth-Hill strain tensor of order 0.0 based on left stretch tensor of F (deformation gradient)\n",
       "        epsilon_V^0.0(F)_vM / 1: Mises equivalent strain of epsilon_V^0.0(F) (Seth-Hill strain tensor of order 0.0 based on left stretch tensor of F (deformation gradient))\n",
       "        sigma / Pa: Cauchy stress calculated from P (first Piola-Kirchhoff stress) and F (deformation gradient)\n",
       "        sigma_vM / Pa: Mises equivalent stress of sigma (Cauchy stress calculated from P (first Piola-Kirchhoff stress) and F (deformation gradient))\n",
       "        xi_sl / Pa: resistance against plastic slip\n",
       "  homogenization\n",
       "    SX\n",
       "      mechanical"
      ]
     },
     "execution_count": 23,
     "metadata": {},
     "output_type": "execute_result"
    }
   ],
   "source": [
    "job.output.damask.view(increments=80)"
   ]
  },
  {
   "cell_type": "code",
   "execution_count": 24,
   "id": "3d310ed3-c1c6-4f5a-a236-a923b91ca0e4",
   "metadata": {},
   "outputs": [
    {
     "data": {
      "text/plain": [
       "array([[[-9.36504026e-06, -4.73871529e-06,  1.01800620e-06],\n",
       "        [-4.73871529e-06, -1.09107918e-05,  2.43901755e-06],\n",
       "        [ 1.01800620e-06,  2.43901755e-06, -7.08673439e-06]],\n",
       "\n",
       "       [[ 6.87407156e+07,  2.69159913e+05,  1.22321905e+06],\n",
       "        [ 2.69159913e+05, -3.03601121e+03, -7.41171940e+05],\n",
       "        [ 1.22321905e+06, -7.41171940e+05, -3.79421200e+03]],\n",
       "\n",
       "       [[ 8.47277457e+07, -4.18237174e+03,  2.68285346e+06],\n",
       "        [-4.18237174e+03,  1.94891501e+03, -3.51223577e+06],\n",
       "        [ 2.68285346e+06, -3.51223577e+06,  2.82207741e+03]],\n",
       "\n",
       "       [[ 8.77384093e+07,  8.98213946e+05,  3.92469530e+06],\n",
       "        [ 8.98213946e+05, -7.22835755e+03, -4.26575299e+06],\n",
       "        [ 3.92469530e+06, -4.26575299e+06, -6.23200570e+03]],\n",
       "\n",
       "       [[ 8.86269075e+07,  1.64772015e+06,  4.34914947e+06],\n",
       "        [ 1.64772015e+06, -3.28974156e+02, -4.39157122e+06],\n",
       "        [ 4.34914947e+06, -4.39157122e+06, -4.21236720e+03]],\n",
       "\n",
       "       [[ 8.90696398e+07,  2.13764917e+06,  4.54536150e+06],\n",
       "        [ 2.13764917e+06, -5.58920735e+03, -4.40990863e+06],\n",
       "        [ 4.54536150e+06, -4.40990863e+06,  5.20309598e+01]],\n",
       "\n",
       "       [[ 8.93709713e+07,  2.45620055e+06,  4.64738656e+06],\n",
       "        [ 2.45620055e+06, -5.68416932e+03, -4.42127887e+06],\n",
       "        [ 4.64738656e+06, -4.42127887e+06, -1.89842820e+03]],\n",
       "\n",
       "       [[ 8.96089099e+07,  2.65875493e+06,  4.71020827e+06],\n",
       "        [ 2.65875493e+06, -5.11084601e+03, -4.44272176e+06],\n",
       "        [ 4.71020827e+06, -4.44272176e+06, -2.37874183e+03]],\n",
       "\n",
       "       [[ 8.98244664e+07,  2.78619246e+06,  4.75990758e+06],\n",
       "        [ 2.78619246e+06,  6.07366742e+03, -4.46897858e+06],\n",
       "        [ 4.75990758e+06, -4.46897858e+06,  2.96890825e+03]],\n",
       "\n",
       "       [[ 9.00140833e+07,  2.86584928e+06,  4.80365123e+06],\n",
       "        [ 2.86584928e+06, -1.64047133e+03, -4.49413334e+06],\n",
       "        [ 4.80365123e+06, -4.49413334e+06, -4.68023126e+03]],\n",
       "\n",
       "       [[ 9.02040781e+07,  2.91502701e+06,  4.84347736e+06],\n",
       "        [ 2.91502701e+06, -1.80524213e+02, -4.51562159e+06],\n",
       "        [ 4.84347736e+06, -4.51562159e+06,  7.71625940e+02]],\n",
       "\n",
       "       [[ 9.09303867e+07,  2.97558484e+06,  4.96772713e+06],\n",
       "        [ 2.97558484e+06,  4.37631981e+03, -4.56657974e+06],\n",
       "        [ 4.96772713e+06, -4.56657974e+06,  5.83843621e+03]],\n",
       "\n",
       "       [[ 9.16243560e+07,  2.93627865e+06,  5.07630136e+06],\n",
       "        [ 2.93627865e+06,  3.16811111e+03, -4.60167769e+06],\n",
       "        [ 5.07630136e+06, -4.60167769e+06,  5.08162517e+03]],\n",
       "\n",
       "       [[ 9.23008365e+07,  2.85151741e+06,  5.17966610e+06],\n",
       "        [ 2.85151741e+06,  2.65395041e+03, -4.63539834e+06],\n",
       "        [ 5.17966610e+06, -4.63539834e+06,  4.75291200e+03]],\n",
       "\n",
       "       [[ 9.29620921e+07,  2.74030151e+06,  5.28165346e+06],\n",
       "        [ 2.74030151e+06,  2.47380122e+03, -4.67128659e+06],\n",
       "        [ 5.28165346e+06, -4.67128659e+06,  4.49146535e+03]],\n",
       "\n",
       "       [[ 9.36094369e+07,  2.61181483e+06,  5.38340753e+06],\n",
       "        [ 2.61181483e+06,  2.36694246e+03, -4.70979600e+06],\n",
       "        [ 5.38340753e+06, -4.70979600e+06,  4.19951809e+03]],\n",
       "\n",
       "       [[ 9.42439745e+07,  2.47115084e+06,  5.48550681e+06],\n",
       "        [ 2.47115084e+06,  2.21578153e+03, -4.75057305e+06],\n",
       "        [ 5.48550681e+06, -4.75057305e+06,  3.86235853e+03]],\n",
       "\n",
       "       [[ 9.48665375e+07,  2.32043457e+06,  5.58902699e+06],\n",
       "        [ 2.32043457e+06,  2.24622806e+03, -4.79307111e+06],\n",
       "        [ 5.58902699e+06, -4.79307111e+06,  3.99926894e+03]],\n",
       "\n",
       "       [[ 9.54635199e+07,  2.16286039e+06,  5.69420923e+06],\n",
       "        [ 2.16286039e+06, -1.20794961e+04, -4.83655447e+06],\n",
       "        [ 5.69420923e+06, -4.83655447e+06, -1.60416092e+04]],\n",
       "\n",
       "       [[ 9.60663431e+07,  2.00099368e+06,  5.80102226e+06],\n",
       "        [ 2.00099368e+06, -1.22771118e+04, -4.88093924e+06],\n",
       "        [ 5.80102226e+06, -4.88093924e+06, -1.59986596e+04]],\n",
       "\n",
       "       [[ 9.66604556e+07,  1.83583505e+06,  5.91005926e+06],\n",
       "        [ 1.83583505e+06, -1.21711193e+04, -4.92571062e+06],\n",
       "        [ 5.91005926e+06, -4.92571062e+06, -1.56904804e+04]],\n",
       "\n",
       "       [[ 9.72597428e+07,  1.66812173e+06,  6.02143056e+06],\n",
       "        [ 1.66812173e+06,  6.59494249e+02, -4.97064326e+06],\n",
       "        [ 6.02143056e+06, -4.97064326e+06,  1.94732883e+03]],\n",
       "\n",
       "       [[ 9.78254935e+07,  1.49551721e+06,  6.13630496e+06],\n",
       "        [ 1.49551721e+06, -1.03590364e+04, -5.01405352e+06],\n",
       "        [ 6.13630496e+06, -5.01405352e+06, -1.44254262e+04]],\n",
       "\n",
       "       [[ 9.83962759e+07,  1.32058533e+06,  6.25317471e+06],\n",
       "        [ 1.32058533e+06, -1.03655630e+04, -5.05548162e+06],\n",
       "        [ 6.25317471e+06, -5.05548162e+06, -1.46215731e+04]],\n",
       "\n",
       "       [[ 9.89604002e+07,  1.14317196e+06,  6.37155669e+06],\n",
       "        [ 1.14317196e+06, -1.04708331e+04, -5.09387159e+06],\n",
       "        [ 6.37155669e+06, -5.09387159e+06, -1.46997318e+04]],\n",
       "\n",
       "       [[ 9.95181604e+07,  9.63626181e+05,  6.49076691e+06],\n",
       "        [ 9.63626181e+05, -1.05819581e+04, -5.12901359e+06],\n",
       "        [ 6.49076691e+06, -5.12901359e+06, -1.48049212e+04]]])"
      ]
     },
     "execution_count": 24,
     "metadata": {},
     "output_type": "execute_result"
    }
   ],
   "source": [
    "job.output.stress"
   ]
  }
 ],
 "metadata": {
  "kernelspec": {
   "display_name": "Python 3 (ipykernel)",
   "language": "python",
   "name": "python3"
  },
  "language_info": {
   "codemirror_mode": {
    "name": "ipython",
    "version": 3
   },
   "file_extension": ".py",
   "mimetype": "text/x-python",
   "name": "python",
   "nbconvert_exporter": "python",
   "pygments_lexer": "ipython3",
   "version": "3.11.4"
  }
 },
 "nbformat": 4,
 "nbformat_minor": 5
}
